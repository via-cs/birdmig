{
  "cells": [
    {
      "cell_type": "code",
      "execution_count": 1,
      "metadata": {
        "colab": {
          "base_uri": "https://localhost:8080/"
        },
        "id": "iYvAuReskJ81",
        "outputId": "33dcdf8b-f2fb-4e9b-de16-dd1a2810f1bb"
      },
      "outputs": [
        {
          "name": "stdout",
          "output_type": "stream",
          "text": [
            "Requirement already satisfied: geopandas in c:\\users\\marche\\anaconda3\\lib\\site-packages (0.14.3)\n",
            "Requirement already satisfied: rasterio in c:\\users\\marche\\anaconda3\\lib\\site-packages (1.3.9)\n",
            "Requirement already satisfied: matplotlib in c:\\users\\marche\\anaconda3\\lib\\site-packages (3.8.0)\n",
            "Requirement already satisfied: scikit-learn in c:\\users\\marche\\anaconda3\\lib\\site-packages (1.3.0)\n",
            "Requirement already satisfied: pandas in c:\\users\\marche\\anaconda3\\lib\\site-packages (2.1.1)\n",
            "Requirement already satisfied: pyimpute in c:\\users\\marche\\anaconda3\\lib\\site-packages (0.3)\n",
            "Requirement already satisfied: xgboost in c:\\users\\marche\\anaconda3\\lib\\site-packages (2.0.3)\n",
            "Requirement already satisfied: lightgbm in c:\\users\\marche\\anaconda3\\lib\\site-packages (4.3.0)\n",
            "Requirement already satisfied: geojson in c:\\users\\marche\\anaconda3\\lib\\site-packages (3.1.0)\n",
            "Requirement already satisfied: rasterstats in c:\\users\\marche\\anaconda3\\lib\\site-packages (0.19.0)\n",
            "Requirement already satisfied: fiona>=1.8.21 in c:\\users\\marche\\anaconda3\\lib\\site-packages (from geopandas) (1.9.5)\n",
            "Requirement already satisfied: packaging in c:\\users\\marche\\anaconda3\\lib\\site-packages (from geopandas) (23.1)\n",
            "Requirement already satisfied: pyproj>=3.3.0 in c:\\users\\marche\\anaconda3\\lib\\site-packages (from geopandas) (3.6.1)\n",
            "Requirement already satisfied: shapely>=1.8.0 in c:\\users\\marche\\anaconda3\\lib\\site-packages (from geopandas) (2.0.3)\n",
            "Requirement already satisfied: affine in c:\\users\\marche\\anaconda3\\lib\\site-packages (from rasterio) (2.4.0)\n",
            "Requirement already satisfied: attrs in c:\\users\\marche\\anaconda3\\lib\\site-packages (from rasterio) (23.1.0)\n",
            "Requirement already satisfied: certifi in c:\\users\\marche\\anaconda3\\lib\\site-packages (from rasterio) (2023.11.17)\n",
            "Requirement already satisfied: click>=4.0 in c:\\users\\marche\\anaconda3\\lib\\site-packages (from rasterio) (8.1.7)\n",
            "Requirement already satisfied: cligj>=0.5 in c:\\users\\marche\\anaconda3\\lib\\site-packages (from rasterio) (0.7.2)\n",
            "Requirement already satisfied: numpy in c:\\users\\marche\\anaconda3\\lib\\site-packages (from rasterio) (1.24.3)\n",
            "Requirement already satisfied: snuggs>=1.4.1 in c:\\users\\marche\\anaconda3\\lib\\site-packages (from rasterio) (1.4.7)\n",
            "Requirement already satisfied: click-plugins in c:\\users\\marche\\anaconda3\\lib\\site-packages (from rasterio) (1.1.1)\n",
            "Requirement already satisfied: setuptools in c:\\users\\marche\\anaconda3\\lib\\site-packages (from rasterio) (68.0.0)\n",
            "Requirement already satisfied: contourpy>=1.0.1 in c:\\users\\marche\\anaconda3\\lib\\site-packages (from matplotlib) (1.2.0)\n",
            "Requirement already satisfied: cycler>=0.10 in c:\\users\\marche\\anaconda3\\lib\\site-packages (from matplotlib) (0.11.0)\n",
            "Requirement already satisfied: fonttools>=4.22.0 in c:\\users\\marche\\anaconda3\\lib\\site-packages (from matplotlib) (4.25.0)\n",
            "Requirement already satisfied: kiwisolver>=1.0.1 in c:\\users\\marche\\anaconda3\\lib\\site-packages (from matplotlib) (1.4.4)\n",
            "Requirement already satisfied: pillow>=6.2.0 in c:\\users\\marche\\anaconda3\\lib\\site-packages (from matplotlib) (10.0.1)\n",
            "Requirement already satisfied: pyparsing>=2.3.1 in c:\\users\\marche\\anaconda3\\lib\\site-packages (from matplotlib) (3.0.9)\n",
            "Requirement already satisfied: python-dateutil>=2.7 in c:\\users\\marche\\anaconda3\\lib\\site-packages (from matplotlib) (2.8.2)\n",
            "Requirement already satisfied: scipy>=1.5.0 in c:\\users\\marche\\anaconda3\\lib\\site-packages (from scikit-learn) (1.11.4)\n",
            "Requirement already satisfied: joblib>=1.1.1 in c:\\users\\marche\\anaconda3\\lib\\site-packages (from scikit-learn) (1.2.0)\n",
            "Requirement already satisfied: threadpoolctl>=2.0.0 in c:\\users\\marche\\anaconda3\\lib\\site-packages (from scikit-learn) (2.2.0)\n",
            "Requirement already satisfied: pytz>=2020.1 in c:\\users\\marche\\anaconda3\\lib\\site-packages (from pandas) (2023.3.post1)\n",
            "Requirement already satisfied: tzdata>=2022.1 in c:\\users\\marche\\anaconda3\\lib\\site-packages (from pandas) (2023.3)\n",
            "Requirement already satisfied: simplejson in c:\\users\\marche\\anaconda3\\lib\\site-packages (from rasterstats) (3.19.2)\n",
            "Requirement already satisfied: colorama in c:\\users\\marche\\anaconda3\\lib\\site-packages (from click>=4.0->rasterio) (0.4.6)\n",
            "Requirement already satisfied: six in c:\\users\\marche\\anaconda3\\lib\\site-packages (from fiona>=1.8.21->geopandas) (1.16.0)\n",
            "Note: you may need to restart the kernel to use updated packages.\n"
          ]
        }
      ],
      "source": [
        "%pip install geopandas rasterio matplotlib scikit-learn pandas pyimpute xgboost lightgbm geojson rasterstats"
      ]
    },
    {
      "cell_type": "code",
      "execution_count": 14,
      "metadata": {},
      "outputs": [],
      "source": [
        "import os\n",
        "import logging\n",
        "import rasterio\n",
        "from tqdm.auto import tqdm\n",
        "import geopandas as gpd\n",
        "import shutil\n",
        "import glob\n",
        "#from pyimpute import load_training_vector\n",
        "#from pyimpute import load_targets\n",
        "import numpy as np\n",
        "import pandas as pd"
      ]
    },
    {
      "cell_type": "code",
      "execution_count": 15,
      "metadata": {},
      "outputs": [],
      "source": [
        "# Adapted from pyimpute for tqdm\n",
        "logger = logging.getLogger(\"pyimpute\")\n",
        "\n",
        "def load_training_vector_with_progress(\n",
        "    response_shapes, explanatory_rasters, response_field, metric=\"mean\"\n",
        "):\n",
        "    from rasterstats import zonal_stats\n",
        "\n",
        "    all_means = []\n",
        "    all_zones = None\n",
        "\n",
        "    for i, raster in enumerate(tqdm(explanatory_rasters, desc=\"Training Vectors\")):\n",
        "        logger.debug(\"Rasters stats on %s\" % raster)\n",
        "\n",
        "        stats = zonal_stats(\n",
        "            response_shapes, raster, stats=metric, prefix=\"pyimpute_\", geojson_out=True\n",
        "        )\n",
        "\n",
        "        zones = [x[\"properties\"][response_field] for x in stats]\n",
        "        if all_zones:\n",
        "            assert zones == all_zones\n",
        "        else:\n",
        "            all_zones = zones\n",
        "\n",
        "        means = [x[\"properties\"][\"pyimpute_\" + metric] for x in stats]\n",
        "        all_means.append(means)\n",
        "\n",
        "    train_y = np.array(all_zones)\n",
        "    train_xs = np.array(all_means).T\n",
        "\n",
        "    return train_xs, train_y\n",
        "\n",
        "def load_targets_with_progress(explanatory_rasters):\n",
        "\n",
        "    explanatory_raster_arrays = []\n",
        "    transform = None\n",
        "    shape = None\n",
        "    crs = None\n",
        "\n",
        "    for raster in tqdm(explanatory_rasters, ascii=True, desc=\"Target Vectors\"):\n",
        "        logger.debug(raster)\n",
        "        with rasterio.open(raster) as src:\n",
        "            ar = src.read(1)  # TODO band num?\n",
        "\n",
        "            # Save or check the geotransform\n",
        "            if not transform:\n",
        "                transform = src.transform\n",
        "            else:\n",
        "                assert transform.almost_equals(src.transform)\n",
        "\n",
        "            # Save or check the shape\n",
        "            if not shape:\n",
        "                shape = ar.shape\n",
        "            else:\n",
        "                assert shape == ar.shape\n",
        "\n",
        "            # Save or check the geotransform\n",
        "            if not crs:\n",
        "                crs = src.crs\n",
        "            else:\n",
        "                assert crs == src.crs\n",
        "\n",
        "        # Flatten in one dimension\n",
        "        arf = ar.flatten()\n",
        "        explanatory_raster_arrays.append(arf)\n",
        "\n",
        "    expl = np.array(explanatory_raster_arrays).T\n",
        "\n",
        "    raster_info = {\n",
        "        \"transform\": transform,\n",
        "        \"shape\": shape,\n",
        "        \"crs\": crs,\n",
        "    }\n",
        "    return expl, raster_info\n"
      ]
    },
    {
      "cell_type": "markdown",
      "metadata": {
        "id": "BCaO8608TS5n"
      },
      "source": [
        "# Species Distribution Data Loading"
      ]
    },
    {
      "cell_type": "code",
      "execution_count": 16,
      "metadata": {
        "colab": {
          "base_uri": "https://localhost:8080/"
        },
        "id": "a6GXnmGfaUzZ",
        "outputId": "20a1ac53-53d1-44b6-e713-1e5599b2ca1a"
      },
      "outputs": [],
      "source": [
        "os.makedirs(\"inputs/historical\", exist_ok = True)\n",
        "os.makedirs(\"inputs/future\", exist_ok = True)\n",
        "os.makedirs(\"outputs\", exist_ok = True)"
      ]
    },
    {
      "cell_type": "code",
      "execution_count": 17,
      "metadata": {},
      "outputs": [],
      "source": [
        "filetype = 'geojson'\n",
        "species = 'Anser_albifrons'\n",
        "\n",
        "for f in sorted(glob.glob('data/' + filetype + '/*')):\n",
        "    shutil.copy(f,'inputs/')\n",
        "\n",
        "pa_raw = gpd.GeoDataFrame.from_file('inputs/' + species + '.' + filetype)"
      ]
    },
    {
      "cell_type": "code",
      "execution_count": 22,
      "metadata": {},
      "outputs": [
        {
          "data": {
            "text/html": [
              "<div>\n",
              "<style scoped>\n",
              "    .dataframe tbody tr th:only-of-type {\n",
              "        vertical-align: middle;\n",
              "    }\n",
              "\n",
              "    .dataframe tbody tr th {\n",
              "        vertical-align: top;\n",
              "    }\n",
              "\n",
              "    .dataframe thead th {\n",
              "        text-align: right;\n",
              "    }\n",
              "</style>\n",
              "<table border=\"1\" class=\"dataframe\">\n",
              "  <thead>\n",
              "    <tr style=\"text-align: right;\">\n",
              "      <th></th>\n",
              "      <th>CLASS</th>\n",
              "      <th>geometry</th>\n",
              "    </tr>\n",
              "  </thead>\n",
              "  <tbody>\n",
              "    <tr>\n",
              "      <th>12114</th>\n",
              "      <td>0.0</td>\n",
              "      <td>POINT (-114.62500 53.37500)</td>\n",
              "    </tr>\n",
              "    <tr>\n",
              "      <th>55167</th>\n",
              "      <td>1.0</td>\n",
              "      <td>POINT (-85.93617 35.55987)</td>\n",
              "    </tr>\n",
              "    <tr>\n",
              "      <th>35722</th>\n",
              "      <td>1.0</td>\n",
              "      <td>POINT (-106.86916 33.82790)</td>\n",
              "    </tr>\n",
              "    <tr>\n",
              "      <th>1090</th>\n",
              "      <td>0.0</td>\n",
              "      <td>POINT (-116.62500 56.62500)</td>\n",
              "    </tr>\n",
              "    <tr>\n",
              "      <th>68268</th>\n",
              "      <td>1.0</td>\n",
              "      <td>POINT (-121.94023 39.64588)</td>\n",
              "    </tr>\n",
              "  </tbody>\n",
              "</table>\n",
              "</div>"
            ],
            "text/plain": [
              "       CLASS                     geometry\n",
              "12114    0.0  POINT (-114.62500 53.37500)\n",
              "55167    1.0   POINT (-85.93617 35.55987)\n",
              "35722    1.0  POINT (-106.86916 33.82790)\n",
              "1090     0.0  POINT (-116.62500 56.62500)\n",
              "68268    1.0  POINT (-121.94023 39.64588)"
            ]
          },
          "execution_count": 22,
          "metadata": {},
          "output_type": "execute_result"
        }
      ],
      "source": [
        "sample_size = 10000\n",
        "\n",
        "pa = pa_raw.sample(n=sample_size, random_state=1)\n",
        "#pa = pa_raw\n",
        "pa.sample(5)"
      ]
    },
    {
      "cell_type": "code",
      "execution_count": 23,
      "metadata": {},
      "outputs": [
        {
          "name": "stdout",
          "output_type": "stream",
          "text": [
            "number of duplicates:  0\n",
            "number of NA's:  0\n",
            "Coordinate reference system is: EPSG:4326\n",
            "10000 observations with 2 columns\n",
            "\n",
            "number of presences:  CLASS       5648\n",
            "geometry    5648\n",
            "dtype: int64\n",
            "number of absences:  CLASS       4352\n",
            "geometry    4352\n",
            "dtype: int64\n"
          ]
        }
      ],
      "source": [
        "print(\"number of duplicates: \", pa.duplicated(subset='geometry', keep='first').sum())\n",
        "print(\"number of NA's: \", pa['geometry'].isna().sum())\n",
        "print(\"Coordinate reference system is: {}\".format(pa.crs))\n",
        "print(\"{} observations with {} columns\".format(*pa.shape))\n",
        "\n",
        "print(\"\\nnumber of presences: \", pa[pa.CLASS == 1].count())\n",
        "print(\"number of absences: \", pa[pa.CLASS == 0].count())"
      ]
    },
    {
      "cell_type": "code",
      "execution_count": 24,
      "metadata": {},
      "outputs": [
        {
          "data": {
            "text/plain": [
              "<Axes: >"
            ]
          },
          "execution_count": 24,
          "metadata": {},
          "output_type": "execute_result"
        },
        {
          "data": {
            "image/png": "[encoded data removed]",
            "text/plain": [
              "<Figure size 640x480 with 1 Axes>"
            ]
          },
          "metadata": {},
          "output_type": "display_data"
        }
      ],
      "source": [
        "pa[pa.CLASS == 1].plot(marker='*', color='green', markersize=8)"
      ]
    },
    {
      "cell_type": "code",
      "execution_count": 25,
      "metadata": {},
      "outputs": [
        {
          "data": {
            "text/plain": [
              "<Axes: >"
            ]
          },
          "execution_count": 25,
          "metadata": {},
          "output_type": "execute_result"
        },
        {
          "data": {
            "image/png": "[encoded data removed]",
            "text/plain": [
              "<Figure size 640x480 with 1 Axes>"
            ]
          },
          "metadata": {},
          "output_type": "display_data"
        }
      ],
      "source": [
        "pa[pa.CLASS == 0].plot(marker='+', color='black', markersize=4)"
      ]
    },
    {
      "cell_type": "markdown",
      "metadata": {
        "id": "cSrftG_ETMF_"
      },
      "source": [
        "# Climate Data Loading and Preprocessing"
      ]
    },
    {
      "cell_type": "markdown",
      "metadata": {
        "id": "Y57cZlcR7Jgf"
      },
      "source": [
        "Load Climate Data"
      ]
    },
    {
      "cell_type": "code",
      "execution_count": 27,
      "metadata": {
        "id": "lAfrlhkx2D8F"
      },
      "outputs": [
        {
          "name": "stdout",
          "output_type": "stream",
          "text": [
            "\n",
            "There are 2 raster features.\n"
          ]
        }
      ],
      "source": [
        "# grab climate features - cropped to joshua tree study area\n",
        "for f in sorted(glob.glob('data/MIROC6/historical/*.asc')):\n",
        "    shutil.copy(f,'inputs/historical/')\n",
        "raster_features = sorted(glob.glob(\n",
        "    'inputs/historical/*.asc'))\n",
        "# check number of features \n",
        "print('\\nThere are', len(raster_features), 'raster features.')"
      ]
    },
    {
      "cell_type": "code",
      "execution_count": 28,
      "metadata": {},
      "outputs": [
        {
          "name": "stdout",
          "output_type": "stream",
          "text": [
            "inputs/model_inputs/Anser_albifrons_10000_train_xs.csv not found.\n"
          ]
        },
        {
          "data": {
            "application/vnd.jupyter.widget-view+json": {
              "model_id": "eed8604367674612a3a270f61965ea3c",
              "version_major": 2,
              "version_minor": 0
            },
            "text/plain": [
              "Training Vectors:   0%|          | 0/2 [00:00<?, ?it/s]"
            ]
          },
          "metadata": {},
          "output_type": "display_data"
        },
        {
          "name": "stdout",
          "output_type": "stream",
          "text": [
            "NaN Rows: [2316, 2332, 2691, 5094, 5167, 6159, 6426, 7756]\n"
          ]
        },
        {
          "data": {
            "application/vnd.jupyter.widget-view+json": {
              "model_id": "85d8f92165aa45ba870f417134c287af",
              "version_major": 2,
              "version_minor": 0
            },
            "text/plain": [
              "Target Vectors:   0%|          | 0/2 [00:00<?, ?it/s]"
            ]
          },
          "metadata": {},
          "output_type": "display_data"
        }
      ],
      "source": [
        "try:\n",
        "    # Load training vectors from file\n",
        "    train_xs = np.genfromtxt(\"inputs/model_inputs/\" + species + \"_\" + str(sample_size) + \"_train_xs.csv\", delimiter=',')\n",
        "    train_y = np.genfromtxt(\"inputs/model_inputs/\" + species + \"_\" + str(sample_size) + \"_train_y.csv\", delimiter=',')\n",
        "except Exception as error:\n",
        "    print(error)\n",
        "    train_xs, train_y = load_training_vector_with_progress(pa, raster_features, response_field='CLASS')\n",
        "\n",
        "    # Remove NaN rows (why do they exist?)\n",
        "    df = pd.DataFrame(train_xs)\n",
        "    row_index = df.index[df.isna().any(axis=1)].tolist()\n",
        "    print(\"NaN Rows:\", row_index)\n",
        "\n",
        "    train_xs = np.delete(train_xs, row_index, axis=0)\n",
        "    train_y = np.delete(train_y, row_index, axis=0)\n",
        "\n",
        "    target_xs, raster_info = load_targets_with_progress(raster_features)\n",
        "    train_xs.shape, train_y.shape # check shape, does it match the size above of the observations?\n",
        "\n",
        "    # Save to csv for faster prototyping\n",
        "    df_x = pd.DataFrame(train_xs)\n",
        "    df_y = pd.DataFrame(train_y)\n",
        "    os.makedirs(\"inputs/model_inputs\", exist_ok = True)\n",
        "    df_x.to_csv(\"inputs/model_inputs/\" + species + \"_\" + str(sample_size) + \"_train_xs.csv\", header = False, index = False)\n",
        "    df_y.to_csv(\"inputs/model_inputs/\" + species + \"_\" + str(sample_size) + \"_train_y.csv\", header = False, index = False)\n",
        "\n"
      ]
    },
    {
      "cell_type": "markdown",
      "metadata": {},
      "source": [
        "and we implemement several `scikit-learn` classifiers:"
      ]
    },
    {
      "cell_type": "code",
      "execution_count": 30,
      "metadata": {},
      "outputs": [
        {
          "name": "stderr",
          "output_type": "stream",
          "text": [
            "c:\\Users\\marche\\anaconda3\\Lib\\site-packages\\dask\\dataframe\\_pyarrow_compat.py:23: UserWarning: You are using pyarrow version 11.0.0 which is known to be insecure. See https://www.cve.org/CVERecord?id=CVE-2023-47248 for further details. Please upgrade to pyarrow>=14.0.1 or install pyarrow-hotfix to patch your current version.\n",
            "  warnings.warn(\n"
          ]
        },
        {
          "name": "stdout",
          "output_type": "stream",
          "text": [
            "random_forest 5-fold Cross Validation Accuracy: 77.28 (+/- 2.01)\n",
            "extra_trees 5-fold Cross Validation Accuracy: 77.79 (+/- 1.07)\n",
            "xgb 5-fold Cross Validation Accuracy: 76.41 (+/- 2.62)\n",
            "[LightGBM] [Info] Number of positive: 4465, number of negative: 3528\n",
            "[LightGBM] [Info] Auto-choosing row-wise multi-threading, the overhead of testing was 0.000498 seconds.\n",
            "You can set `force_row_wise=true` to remove the overhead.\n",
            "And if memory is not enough, you can set `force_col_wise=true`.\n",
            "[LightGBM] [Info] Total Bins 510\n",
            "[LightGBM] [Info] Number of data points in the train set: 7993, number of used features: 2\n",
            "[LightGBM] [Info] [binary:BoostFromScore]: pavg=0.558614 -> initscore=0.235538\n",
            "[LightGBM] [Info] Start training from score 0.235538\n",
            "[LightGBM] [Info] Number of positive: 4545, number of negative: 3448\n",
            "[LightGBM] [Info] Auto-choosing row-wise multi-threading, the overhead of testing was 0.000033 seconds.\n",
            "You can set `force_row_wise=true` to remove the overhead.\n",
            "And if memory is not enough, you can set `force_col_wise=true`.\n",
            "[LightGBM] [Info] Total Bins 510\n",
            "[LightGBM] [Info] Number of data points in the train set: 7993, number of used features: 2\n",
            "[LightGBM] [Info] [binary:BoostFromScore]: pavg=0.568623 -> initscore=0.276233\n",
            "[LightGBM] [Info] Start training from score 0.276233\n",
            "[LightGBM] [Info] Number of positive: 4539, number of negative: 3455\n",
            "[LightGBM] [Info] Auto-choosing row-wise multi-threading, the overhead of testing was 0.000030 seconds.\n",
            "You can set `force_row_wise=true` to remove the overhead.\n",
            "And if memory is not enough, you can set `force_col_wise=true`.\n",
            "[LightGBM] [Info] Total Bins 510\n",
            "[LightGBM] [Info] Number of data points in the train set: 7994, number of used features: 2\n",
            "[LightGBM] [Info] [binary:BoostFromScore]: pavg=0.567801 -> initscore=0.272884\n",
            "[LightGBM] [Info] Start training from score 0.272884\n",
            "[LightGBM] [Info] Number of positive: 4499, number of negative: 3495\n",
            "[LightGBM] [Info] Auto-choosing row-wise multi-threading, the overhead of testing was 0.000026 seconds.\n",
            "You can set `force_row_wise=true` to remove the overhead.\n",
            "And if memory is not enough, you can set `force_col_wise=true`.\n",
            "[LightGBM] [Info] Total Bins 510\n",
            "[LightGBM] [Info] Number of data points in the train set: 7994, number of used features: 2\n",
            "[LightGBM] [Info] [binary:BoostFromScore]: pavg=0.562797 -> initscore=0.252522\n",
            "[LightGBM] [Info] Start training from score 0.252522\n",
            "[LightGBM] [Info] Number of positive: 4512, number of negative: 3482\n",
            "[LightGBM] [Info] Auto-choosing row-wise multi-threading, the overhead of testing was 0.000031 seconds.\n",
            "You can set `force_row_wise=true` to remove the overhead.\n",
            "And if memory is not enough, you can set `force_col_wise=true`.\n",
            "[LightGBM] [Info] Total Bins 510\n",
            "[LightGBM] [Info] Number of data points in the train set: 7994, number of used features: 2\n",
            "[LightGBM] [Info] [binary:BoostFromScore]: pavg=0.564423 -> initscore=0.259134\n",
            "[LightGBM] [Info] Start training from score 0.259134\n",
            "lgbm 5-fold Cross Validation Accuracy: 76.47 (+/- 2.52)\n",
            "[LightGBM] [Info] Number of positive: 5640, number of negative: 4352\n",
            "[LightGBM] [Info] Auto-choosing row-wise multi-threading, the overhead of testing was 0.000030 seconds.\n",
            "You can set `force_row_wise=true` to remove the overhead.\n",
            "And if memory is not enough, you can set `force_col_wise=true`.\n",
            "[LightGBM] [Info] Total Bins 510\n",
            "[LightGBM] [Info] Number of data points in the train set: 9992, number of used features: 2\n",
            "[LightGBM] [Info] [binary:BoostFromScore]: pavg=0.564452 -> initscore=0.259249\n",
            "[LightGBM] [Info] Start training from score 0.259249\n"
          ]
        }
      ],
      "source": [
        "from sklearn.svm import SVC\n",
        "from sklearn.ensemble import RandomForestClassifier\n",
        "from sklearn.ensemble import ExtraTreesClassifier\n",
        "from xgboost import XGBClassifier\n",
        "from lightgbm import LGBMClassifier\n",
        "import pickle\n",
        "\n",
        "CLASS_MAP = {\n",
        "    'random_forest': (RandomForestClassifier()),\n",
        "    'extra_trees': (ExtraTreesClassifier()),\n",
        "    'xgb': (XGBClassifier()),\n",
        "    'lgbm': (LGBMClassifier()),\n",
        "    #'svm': (SVC())\n",
        "    }\n",
        "\n",
        "from pyimpute import impute\n",
        "from sklearn import model_selection\n",
        "# model fitting and spatial range prediction\n",
        "for name, (model) in CLASS_MAP.items():\n",
        "    # cross validation for accuracy scores (displayed as a percentage)\n",
        "    k = 5 # k-fold\n",
        "    kf = model_selection.KFold(n_splits=k)\n",
        "    accuracy_scores = model_selection.cross_val_score(model, train_xs, train_y, cv=kf, scoring='accuracy')\n",
        "    print(name + \" %d-fold Cross Validation Accuracy: %0.2f (+/- %0.2f)\"\n",
        "          % (k, accuracy_scores.mean() * 100, accuracy_scores.std() * 200))\n",
        "    \n",
        "    # spatial prediction\n",
        "    model.fit(train_xs, train_y)\n",
        "    os.makedirs('outputs/models/', exist_ok=True)\n",
        "    filename = species + \"_\" + name + '_classifier_model.pkl'\n",
        "    pickle.dump(model, open('outputs/models/' + filename, 'wb'))"
      ]
    }
  ],
  "metadata": {
    "colab": {
      "provenance": []
    },
    "kernelspec": {
      "display_name": "Python 3",
      "name": "python3"
    },
    "language_info": {
      "codemirror_mode": {
        "name": "ipython",
        "version": 3
      },
      "file_extension": ".py",
      "mimetype": "text/x-python",
      "name": "python",
      "nbconvert_exporter": "python",
      "pygments_lexer": "ipython3",
      "version": "3.11.5"
    }
  },
  "nbformat": 4,
  "nbformat_minor": 0
}
