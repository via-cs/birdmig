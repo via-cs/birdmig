{
  "cells": [
    {
      "cell_type": "code",
      "execution_count": 1,
      "metadata": {
        "colab": {
          "base_uri": "https://localhost:8080/"
        },
        "id": "iYvAuReskJ81",
        "outputId": "33dcdf8b-f2fb-4e9b-de16-dd1a2810f1bb"
      },
      "outputs": [
        {
          "name": "stdout",
          "output_type": "stream",
          "text": [
            "Requirement already satisfied: geopandas in c:\\users\\marche\\anaconda3\\lib\\site-packages (0.14.3)\n",
            "Requirement already satisfied: rasterio in c:\\users\\marche\\anaconda3\\lib\\site-packages (1.3.9)\n",
            "Requirement already satisfied: matplotlib in c:\\users\\marche\\anaconda3\\lib\\site-packages (3.8.0)\n",
            "Requirement already satisfied: scikit-learn in c:\\users\\marche\\anaconda3\\lib\\site-packages (1.3.0)\n",
            "Requirement already satisfied: pandas in c:\\users\\marche\\anaconda3\\lib\\site-packages (2.1.1)\n",
            "Requirement already satisfied: pyimpute in c:\\users\\marche\\anaconda3\\lib\\site-packages (0.3)\n",
            "Requirement already satisfied: xgboost in c:\\users\\marche\\anaconda3\\lib\\site-packages (2.0.3)\n",
            "Requirement already satisfied: lightgbm in c:\\users\\marche\\anaconda3\\lib\\site-packages (4.3.0)\n",
            "Requirement already satisfied: geojson in c:\\users\\marche\\anaconda3\\lib\\site-packages (3.1.0)\n",
            "Requirement already satisfied: rasterstats in c:\\users\\marche\\anaconda3\\lib\\site-packages (0.19.0)\n",
            "Requirement already satisfied: fiona>=1.8.21 in c:\\users\\marche\\anaconda3\\lib\\site-packages (from geopandas) (1.9.5)\n",
            "Requirement already satisfied: packaging in c:\\users\\marche\\anaconda3\\lib\\site-packages (from geopandas) (23.1)\n",
            "Requirement already satisfied: pyproj>=3.3.0 in c:\\users\\marche\\anaconda3\\lib\\site-packages (from geopandas) (3.6.1)\n",
            "Requirement already satisfied: shapely>=1.8.0 in c:\\users\\marche\\anaconda3\\lib\\site-packages (from geopandas) (2.0.3)\n",
            "Requirement already satisfied: affine in c:\\users\\marche\\anaconda3\\lib\\site-packages (from rasterio) (2.4.0)\n",
            "Requirement already satisfied: attrs in c:\\users\\marche\\anaconda3\\lib\\site-packages (from rasterio) (23.1.0)\n",
            "Requirement already satisfied: certifi in c:\\users\\marche\\anaconda3\\lib\\site-packages (from rasterio) (2023.11.17)\n",
            "Requirement already satisfied: click>=4.0 in c:\\users\\marche\\anaconda3\\lib\\site-packages (from rasterio) (8.1.7)\n",
            "Requirement already satisfied: cligj>=0.5 in c:\\users\\marche\\anaconda3\\lib\\site-packages (from rasterio) (0.7.2)\n",
            "Requirement already satisfied: numpy in c:\\users\\marche\\anaconda3\\lib\\site-packages (from rasterio) (1.24.3)\n",
            "Requirement already satisfied: snuggs>=1.4.1 in c:\\users\\marche\\anaconda3\\lib\\site-packages (from rasterio) (1.4.7)\n",
            "Requirement already satisfied: click-plugins in c:\\users\\marche\\anaconda3\\lib\\site-packages (from rasterio) (1.1.1)\n",
            "Requirement already satisfied: setuptools in c:\\users\\marche\\anaconda3\\lib\\site-packages (from rasterio) (68.0.0)\n",
            "Requirement already satisfied: contourpy>=1.0.1 in c:\\users\\marche\\anaconda3\\lib\\site-packages (from matplotlib) (1.2.0)\n",
            "Requirement already satisfied: cycler>=0.10 in c:\\users\\marche\\anaconda3\\lib\\site-packages (from matplotlib) (0.11.0)\n",
            "Requirement already satisfied: fonttools>=4.22.0 in c:\\users\\marche\\anaconda3\\lib\\site-packages (from matplotlib) (4.25.0)\n",
            "Requirement already satisfied: kiwisolver>=1.0.1 in c:\\users\\marche\\anaconda3\\lib\\site-packages (from matplotlib) (1.4.4)\n",
            "Requirement already satisfied: pillow>=6.2.0 in c:\\users\\marche\\anaconda3\\lib\\site-packages (from matplotlib) (10.0.1)\n",
            "Requirement already satisfied: pyparsing>=2.3.1 in c:\\users\\marche\\anaconda3\\lib\\site-packages (from matplotlib) (3.0.9)\n",
            "Requirement already satisfied: python-dateutil>=2.7 in c:\\users\\marche\\anaconda3\\lib\\site-packages (from matplotlib) (2.8.2)\n",
            "Requirement already satisfied: scipy>=1.5.0 in c:\\users\\marche\\anaconda3\\lib\\site-packages (from scikit-learn) (1.11.4)\n",
            "Requirement already satisfied: joblib>=1.1.1 in c:\\users\\marche\\anaconda3\\lib\\site-packages (from scikit-learn) (1.2.0)\n",
            "Requirement already satisfied: threadpoolctl>=2.0.0 in c:\\users\\marche\\anaconda3\\lib\\site-packages (from scikit-learn) (2.2.0)\n",
            "Requirement already satisfied: pytz>=2020.1 in c:\\users\\marche\\anaconda3\\lib\\site-packages (from pandas) (2023.3.post1)\n",
            "Requirement already satisfied: tzdata>=2022.1 in c:\\users\\marche\\anaconda3\\lib\\site-packages (from pandas) (2023.3)\n",
            "Requirement already satisfied: simplejson in c:\\users\\marche\\anaconda3\\lib\\site-packages (from rasterstats) (3.19.2)\n",
            "Requirement already satisfied: colorama in c:\\users\\marche\\anaconda3\\lib\\site-packages (from click>=4.0->rasterio) (0.4.6)\n",
            "Requirement already satisfied: six in c:\\users\\marche\\anaconda3\\lib\\site-packages (from fiona>=1.8.21->geopandas) (1.16.0)\n",
            "Note: you may need to restart the kernel to use updated packages.\n"
          ]
        }
      ],
      "source": [
        "%pip install geopandas rasterio matplotlib scikit-learn pandas pyimpute xgboost lightgbm geojson rasterstats"
      ]
    },
    {
      "cell_type": "code",
      "execution_count": 2,
      "metadata": {},
      "outputs": [],
      "source": [
        "import os\n",
        "import pyimpute\n",
        "import geopandas as gpd\n",
        "import shutil\n",
        "import glob\n",
        "import numpy as np\n",
        "import pandas as pd\n",
        "import pickle"
      ]
    },
    {
      "cell_type": "markdown",
      "metadata": {
        "id": "BCaO8608TS5n"
      },
      "source": [
        "# Species Distribution Data Loading"
      ]
    },
    {
      "cell_type": "markdown",
      "metadata": {},
      "source": [
        "Selected species is Alber Albifrons. If you want to process all species, see `./model_train.py`"
      ]
    },
    {
      "cell_type": "code",
      "execution_count": 3,
      "metadata": {},
      "outputs": [],
      "source": [
        "species_list = ['Anser_albifrons', 'Haliaeetus_leucocephalus', 'Numenius_americanus', 'Numenius_phaeopus', 'Setophaga_striata']\n",
        "species = species_list[0]\n",
        "filetype = '.tif'"
      ]
    },
    {
      "cell_type": "markdown",
      "metadata": {},
      "source": [
        "### Load Presence-Absence Data"
      ]
    },
    {
      "cell_type": "code",
      "execution_count": 4,
      "metadata": {},
      "outputs": [],
      "source": [
        "pa_raw = gpd.GeoDataFrame.from_file('input/geojson/' + species + '.geojson')"
      ]
    },
    {
      "cell_type": "code",
      "execution_count": 5,
      "metadata": {},
      "outputs": [
        {
          "data": {
            "text/html": [
              "<div>\n",
              "<style scoped>\n",
              "    .dataframe tbody tr th:only-of-type {\n",
              "        vertical-align: middle;\n",
              "    }\n",
              "\n",
              "    .dataframe tbody tr th {\n",
              "        vertical-align: top;\n",
              "    }\n",
              "\n",
              "    .dataframe thead th {\n",
              "        text-align: right;\n",
              "    }\n",
              "</style>\n",
              "<table border=\"1\" class=\"dataframe\">\n",
              "  <thead>\n",
              "    <tr style=\"text-align: right;\">\n",
              "      <th></th>\n",
              "      <th>CLASS</th>\n",
              "      <th>geometry</th>\n",
              "    </tr>\n",
              "  </thead>\n",
              "  <tbody>\n",
              "    <tr>\n",
              "      <th>26985</th>\n",
              "      <td>0.0</td>\n",
              "      <td>POINT (-66.87500 -25.62500)</td>\n",
              "    </tr>\n",
              "    <tr>\n",
              "      <th>57223</th>\n",
              "      <td>1.0</td>\n",
              "      <td>POINT (-149.31000 70.35000)</td>\n",
              "    </tr>\n",
              "    <tr>\n",
              "      <th>135384</th>\n",
              "      <td>0.0</td>\n",
              "      <td>POINT (-80.87500 27.37500)</td>\n",
              "    </tr>\n",
              "    <tr>\n",
              "      <th>71362</th>\n",
              "      <td>0.0</td>\n",
              "      <td>POINT (-65.62500 9.12500)</td>\n",
              "    </tr>\n",
              "    <tr>\n",
              "      <th>132494</th>\n",
              "      <td>1.0</td>\n",
              "      <td>POINT (-89.32674 43.33267)</td>\n",
              "    </tr>\n",
              "  </tbody>\n",
              "</table>\n",
              "</div>"
            ],
            "text/plain": [
              "        CLASS                     geometry\n",
              "26985     0.0  POINT (-66.87500 -25.62500)\n",
              "57223     1.0  POINT (-149.31000 70.35000)\n",
              "135384    0.0   POINT (-80.87500 27.37500)\n",
              "71362     0.0    POINT (-65.62500 9.12500)\n",
              "132494    1.0   POINT (-89.32674 43.33267)"
            ]
          },
          "execution_count": 5,
          "metadata": {},
          "output_type": "execute_result"
        }
      ],
      "source": [
        "#sample_size = 20000\n",
        "\n",
        "#pa = pa_raw.sample(n=sample_size, random_state=1)\n",
        "pa = pa_raw\n",
        "pa.sample(5)"
      ]
    },
    {
      "cell_type": "markdown",
      "metadata": {},
      "source": [
        "#### Display metrics for presence-absence data"
      ]
    },
    {
      "cell_type": "code",
      "execution_count": 6,
      "metadata": {},
      "outputs": [
        {
          "name": "stdout",
          "output_type": "stream",
          "text": [
            "number of duplicates:  0\n",
            "number of NA's:  0\n",
            "Coordinate reference system is: EPSG:4326\n",
            "162534 observations with 2 columns\n",
            "\n",
            "number of presences:  CLASS       81267\n",
            "geometry    81267\n",
            "dtype: int64\n",
            "number of absences:  CLASS       81267\n",
            "geometry    81267\n",
            "dtype: int64\n"
          ]
        }
      ],
      "source": [
        "print(\"number of duplicates: \", pa.duplicated(subset='geometry', keep='first').sum())\n",
        "print(\"number of NA's: \", pa['geometry'].isna().sum())\n",
        "print(\"Coordinate reference system is: {}\".format(pa.crs))\n",
        "print(\"{} observations with {} columns\".format(*pa.shape))\n",
        "\n",
        "print(\"\\nnumber of presences: \", pa[pa.CLASS == 1].count())\n",
        "print(\"number of absences: \", pa[pa.CLASS == 0].count())"
      ]
    },
    {
      "cell_type": "code",
      "execution_count": 7,
      "metadata": {},
      "outputs": [
        {
          "data": {
            "text/plain": [
              "<Axes: >"
            ]
          },
          "execution_count": 7,
          "metadata": {},
          "output_type": "execute_result"
        },
        {
          "data": {
            "image/png": "[encoded data removed]",
            "text/plain": [
              "<Figure size 640x480 with 1 Axes>"
            ]
          },
          "metadata": {},
          "output_type": "display_data"
        }
      ],
      "source": [
        "pa[pa.CLASS == 1].plot(marker='*', color='green', markersize=8)"
      ]
    },
    {
      "cell_type": "code",
      "execution_count": 8,
      "metadata": {},
      "outputs": [
        {
          "data": {
            "text/plain": [
              "<Axes: >"
            ]
          },
          "execution_count": 8,
          "metadata": {},
          "output_type": "execute_result"
        },
        {
          "data": {
            "image/png": "[encoded data removed]",
            "text/plain": [
              "<Figure size 640x480 with 1 Axes>"
            ]
          },
          "metadata": {},
          "output_type": "display_data"
        }
      ],
      "source": [
        "pa[pa.CLASS == 0].plot(marker='+', color='black', markersize=4)"
      ]
    },
    {
      "cell_type": "markdown",
      "metadata": {
        "id": "cSrftG_ETMF_"
      },
      "source": [
        "# Climate Data Loading and Preprocessing"
      ]
    },
    {
      "cell_type": "markdown",
      "metadata": {
        "id": "Y57cZlcR7Jgf"
      },
      "source": [
        "#### Load Climate Data"
      ]
    },
    {
      "cell_type": "code",
      "execution_count": 9,
      "metadata": {
        "id": "lAfrlhkx2D8F"
      },
      "outputs": [
        {
          "name": "stdout",
          "output_type": "stream",
          "text": [
            "\n",
            "There are 2 raster features.\n"
          ]
        }
      ],
      "source": [
        "# grab climate features\n",
        "raster_features = sorted(glob.glob(\n",
        "    'input/historical/*' + filetype))\n",
        "# check number of features \n",
        "print('\\nThere are', len(raster_features), 'raster features.')"
      ]
    },
    {
      "cell_type": "markdown",
      "metadata": {},
      "source": [
        "#### Load training vectors"
      ]
    },
    {
      "cell_type": "code",
      "execution_count": null,
      "metadata": {},
      "outputs": [],
      "source": [
        "# Load training vectors\n",
        "train_xs, train_y = pyimpute.load_training_vector(pa, raster_features, response_field='CLASS')\n",
        "\n",
        "# Remove NaN rows (why do they exist?)\n",
        "df = pd.DataFrame(train_xs)\n",
        "row_index = df.index[df.isna().any(axis=1)].tolist()\n",
        "print(\"NaN Rows:\", row_index)\n",
        "\n",
        "train_xs = np.delete(train_xs, row_index, axis=0)\n",
        "train_y = np.delete(train_y, row_index, axis=0)\n",
        "\n",
        "train_xs.shape, train_y.shape # check shape, does it match the size above of the observations?"
      ]
    },
    {
      "cell_type": "markdown",
      "metadata": {},
      "source": [
        "#### Evaluate Different Classifiers"
      ]
    },
    {
      "cell_type": "code",
      "execution_count": null,
      "metadata": {},
      "outputs": [],
      "source": [
        "# import machine learning classifiers\n",
        "from sklearn.ensemble import RandomForestClassifier\n",
        "from sklearn.ensemble import ExtraTreesClassifier\n",
        "from xgboost import XGBClassifier\n",
        "from lightgbm import LGBMClassifier\n",
        "\n",
        "CLASS_MAP = {\n",
        "    'rf': (RandomForestClassifier()),\n",
        "    'et': (ExtraTreesClassifier()),\n",
        "    'xgb': (XGBClassifier()),\n",
        "    'lgbm': (LGBMClassifier())\n",
        "    }\n",
        "\n",
        "from pyimpute import impute\n",
        "from sklearn import model_selection\n",
        "# model fitting and spatial range prediction\n",
        "for name, (model) in CLASS_MAP.items():\n",
        "    # cross validation for accuracy scores (displayed as a percentage)\n",
        "    k = 5 # k-fold\n",
        "    kf = model_selection.KFold(n_splits=k)\n",
        "    accuracy_scores = model_selection.cross_val_score(model, train_xs, train_y, cv=kf, scoring='accuracy')\n",
        "    print(name + \" %d-fold Cross Validation Accuracy: %0.2f (+/- %0.2f)\"\n",
        "          % (k, accuracy_scores.mean() * 100, accuracy_scores.std() * 200))"
      ]
    },
    {
      "cell_type": "markdown",
      "metadata": {},
      "source": [
        "#### Fit random forest classifier\n",
        "\n",
        "Random Forest showed the most consistent and high accuracy among all other\n",
        "classifiers"
      ]
    },
    {
      "cell_type": "code",
      "execution_count": null,
      "metadata": {},
      "outputs": [],
      "source": [
        "\n",
        "# spatial prediction\n",
        "model = RandomForestClassifier()\n",
        "model.fit(train_xs, train_y)"
      ]
    },
    {
      "cell_type": "markdown",
      "metadata": {},
      "source": [
        "### Save model to PKL"
      ]
    },
    {
      "cell_type": "code",
      "execution_count": null,
      "metadata": {},
      "outputs": [],
      "source": [
        "os.makedirs('output/models/', exist_ok=True)\n",
        "filename = species + '_rf_classifier_model.pkl'\n",
        "pickle.dump(model, open('outputs/model/' + filename, 'wb'))"
      ]
    },
    {
      "cell_type": "markdown",
      "metadata": {},
      "source": [
        "# Predictive Modelling"
      ]
    },
    {
      "cell_type": "markdown",
      "metadata": {},
      "source": [
        "Defaulted to ssp245 & 2050\n",
        "\n",
        "If you want to run all predictions for all years & SSPs, see `./model_prediciton.py`"
      ]
    },
    {
      "cell_type": "code",
      "execution_count": 19,
      "metadata": {},
      "outputs": [],
      "source": [
        "ssp = \"ssp126\"\n",
        "year = 2050"
      ]
    },
    {
      "cell_type": "markdown",
      "metadata": {},
      "source": [
        "#### Load targets"
      ]
    },
    {
      "cell_type": "code",
      "execution_count": 23,
      "metadata": {},
      "outputs": [
        {
          "name": "stdout",
          "output_type": "stream",
          "text": [
            "\n",
            "There are 2 raster features.\n"
          ]
        }
      ],
      "source": [
        "raster_features = sorted(glob.glob('input/future/' + ssp + '/' + str(year) + '/*' + filetype))\n",
        "target_xs, raster_info = pyimpute.load_targets(raster_features)\n",
        "\n",
        "# check number of features \n",
        "print('\\nThere are', len(raster_features), 'raster features.')"
      ]
    },
    {
      "cell_type": "markdown",
      "metadata": {},
      "source": [
        "#### Load model pickle file"
      ]
    },
    {
      "cell_type": "code",
      "execution_count": null,
      "metadata": {},
      "outputs": [],
      "source": [
        "pickle_filename = \"output/models/\" + species + '_rf_classifier_model.pkl'\n",
        "model = pickle.load(open(pickle_filename, 'rb'))"
      ]
    },
    {
      "cell_type": "markdown",
      "metadata": {},
      "source": [
        "#### Make predictions!"
      ]
    },
    {
      "cell_type": "code",
      "execution_count": null,
      "metadata": {},
      "outputs": [],
      "source": [
        "os.makedirs('output/tiff-images/' + species + '/' + ssp + '/' + str(year), exist_ok=True)\n",
        "pyimpute.impute(target_xs, model, raster_info, outdir='outputs/tiff-images/' + species + '/' + ssp + '/' + str(year),\n",
        "        class_prob=True, certainty=False)"
      ]
    }
  ],
  "metadata": {
    "colab": {
      "provenance": []
    },
    "kernelspec": {
      "display_name": "Python 3",
      "name": "python3"
    },
    "language_info": {
      "codemirror_mode": {
        "name": "ipython",
        "version": 3
      },
      "file_extension": ".py",
      "mimetype": "text/x-python",
      "name": "python",
      "nbconvert_exporter": "python",
      "pygments_lexer": "ipython3",
      "version": "3.11.5"
    }
  },
  "nbformat": 4,
  "nbformat_minor": 0
}
